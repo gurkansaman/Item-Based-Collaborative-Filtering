{
 "cells": [
  {
   "cell_type": "markdown",
   "id": "8f3b8a6a",
   "metadata": {
    "papermill": {
     "duration": 0.013132,
     "end_time": "2021-07-24T19:10:24.375626",
     "exception": false,
     "start_time": "2021-07-24T19:10:24.362494",
     "status": "completed"
    },
    "tags": []
   },
   "source": [
    "## Item-Based Collaborative Filtering\n",
    "**Item-item collaborative filtering is a type of recommendation system that is based on the similarity between items calculated using the rating users have given to items.**"
   ]
  },
  {
   "cell_type": "code",
   "execution_count": 1,
   "id": "61272a8a",
   "metadata": {
    "execution": {
     "iopub.execute_input": "2021-07-24T19:10:24.404952Z",
     "iopub.status.busy": "2021-07-24T19:10:24.403836Z",
     "iopub.status.idle": "2021-07-24T19:10:24.413090Z",
     "shell.execute_reply": "2021-07-24T19:10:24.413587Z",
     "shell.execute_reply.started": "2021-07-24T10:24:46.938279Z"
    },
    "papermill": {
     "duration": 0.025207,
     "end_time": "2021-07-24T19:10:24.413877",
     "exception": false,
     "start_time": "2021-07-24T19:10:24.388670",
     "status": "completed"
    },
    "tags": []
   },
   "outputs": [],
   "source": [
    "# Importing library:\n",
    "import pandas as pd\n",
    "pd.set_option('display.max_columns', 20)"
   ]
  },
  {
   "cell_type": "code",
   "execution_count": 2,
   "id": "c5d29e74",
   "metadata": {
    "execution": {
     "iopub.execute_input": "2021-07-24T19:10:24.440931Z",
     "iopub.status.busy": "2021-07-24T19:10:24.440302Z",
     "iopub.status.idle": "2021-07-24T19:10:24.676554Z",
     "shell.execute_reply": "2021-07-24T19:10:24.675996Z",
     "shell.execute_reply.started": "2021-07-24T10:24:48.142968Z"
    },
    "papermill": {
     "duration": 0.250764,
     "end_time": "2021-07-24T19:10:24.676692",
     "exception": false,
     "start_time": "2021-07-24T19:10:24.425928",
     "status": "completed"
    },
    "tags": []
   },
   "outputs": [],
   "source": [
    "# Importing files:\n",
    "movie = pd.read_csv('/kaggle/input/movie-lens-dataset/movies.csv')\n",
    "rating = pd.read_csv('/kaggle/input/movie-lens-dataset/ratings.csv')"
   ]
  },
  {
   "cell_type": "code",
   "execution_count": 3,
   "id": "74e439c8",
   "metadata": {
    "execution": {
     "iopub.execute_input": "2021-07-24T19:10:24.713548Z",
     "iopub.status.busy": "2021-07-24T19:10:24.712849Z",
     "iopub.status.idle": "2021-07-24T19:10:24.783995Z",
     "shell.execute_reply": "2021-07-24T19:10:24.783419Z",
     "shell.execute_reply.started": "2021-07-24T10:24:49.357666Z"
    },
    "papermill": {
     "duration": 0.095459,
     "end_time": "2021-07-24T19:10:24.784152",
     "exception": false,
     "start_time": "2021-07-24T19:10:24.688693",
     "status": "completed"
    },
    "tags": []
   },
   "outputs": [
    {
     "data": {
      "text/html": [
       "<div>\n",
       "<style scoped>\n",
       "    .dataframe tbody tr th:only-of-type {\n",
       "        vertical-align: middle;\n",
       "    }\n",
       "\n",
       "    .dataframe tbody tr th {\n",
       "        vertical-align: top;\n",
       "    }\n",
       "\n",
       "    .dataframe thead th {\n",
       "        text-align: right;\n",
       "    }\n",
       "</style>\n",
       "<table border=\"1\" class=\"dataframe\">\n",
       "  <thead>\n",
       "    <tr style=\"text-align: right;\">\n",
       "      <th></th>\n",
       "      <th>movieId</th>\n",
       "      <th>title</th>\n",
       "      <th>genres</th>\n",
       "      <th>userId</th>\n",
       "      <th>rating</th>\n",
       "      <th>timestamp</th>\n",
       "    </tr>\n",
       "  </thead>\n",
       "  <tbody>\n",
       "    <tr>\n",
       "      <th>0</th>\n",
       "      <td>1</td>\n",
       "      <td>Toy Story (1995)</td>\n",
       "      <td>Adventure|Animation|Children|Comedy|Fantasy</td>\n",
       "      <td>1.0</td>\n",
       "      <td>4.0</td>\n",
       "      <td>9.649827e+08</td>\n",
       "    </tr>\n",
       "    <tr>\n",
       "      <th>1</th>\n",
       "      <td>1</td>\n",
       "      <td>Toy Story (1995)</td>\n",
       "      <td>Adventure|Animation|Children|Comedy|Fantasy</td>\n",
       "      <td>5.0</td>\n",
       "      <td>4.0</td>\n",
       "      <td>8.474350e+08</td>\n",
       "    </tr>\n",
       "    <tr>\n",
       "      <th>2</th>\n",
       "      <td>1</td>\n",
       "      <td>Toy Story (1995)</td>\n",
       "      <td>Adventure|Animation|Children|Comedy|Fantasy</td>\n",
       "      <td>7.0</td>\n",
       "      <td>4.5</td>\n",
       "      <td>1.106636e+09</td>\n",
       "    </tr>\n",
       "    <tr>\n",
       "      <th>3</th>\n",
       "      <td>1</td>\n",
       "      <td>Toy Story (1995)</td>\n",
       "      <td>Adventure|Animation|Children|Comedy|Fantasy</td>\n",
       "      <td>15.0</td>\n",
       "      <td>2.5</td>\n",
       "      <td>1.510578e+09</td>\n",
       "    </tr>\n",
       "    <tr>\n",
       "      <th>4</th>\n",
       "      <td>1</td>\n",
       "      <td>Toy Story (1995)</td>\n",
       "      <td>Adventure|Animation|Children|Comedy|Fantasy</td>\n",
       "      <td>17.0</td>\n",
       "      <td>4.5</td>\n",
       "      <td>1.305696e+09</td>\n",
       "    </tr>\n",
       "  </tbody>\n",
       "</table>\n",
       "</div>"
      ],
      "text/plain": [
       "   movieId             title                                       genres  \\\n",
       "0        1  Toy Story (1995)  Adventure|Animation|Children|Comedy|Fantasy   \n",
       "1        1  Toy Story (1995)  Adventure|Animation|Children|Comedy|Fantasy   \n",
       "2        1  Toy Story (1995)  Adventure|Animation|Children|Comedy|Fantasy   \n",
       "3        1  Toy Story (1995)  Adventure|Animation|Children|Comedy|Fantasy   \n",
       "4        1  Toy Story (1995)  Adventure|Animation|Children|Comedy|Fantasy   \n",
       "\n",
       "   userId  rating     timestamp  \n",
       "0     1.0     4.0  9.649827e+08  \n",
       "1     5.0     4.0  8.474350e+08  \n",
       "2     7.0     4.5  1.106636e+09  \n",
       "3    15.0     2.5  1.510578e+09  \n",
       "4    17.0     4.5  1.305696e+09  "
      ]
     },
     "execution_count": 3,
     "metadata": {},
     "output_type": "execute_result"
    }
   ],
   "source": [
    "# Merging:\n",
    "df = movie.merge(rating, how=\"left\", on=\"movieId\")\n",
    "df.head()"
   ]
  },
  {
   "cell_type": "code",
   "execution_count": 4,
   "id": "7a642b1f",
   "metadata": {
    "execution": {
     "iopub.execute_input": "2021-07-24T19:10:24.828926Z",
     "iopub.status.busy": "2021-07-24T19:10:24.828176Z",
     "iopub.status.idle": "2021-07-24T19:10:24.846524Z",
     "shell.execute_reply": "2021-07-24T19:10:24.847014Z",
     "shell.execute_reply.started": "2021-07-24T10:24:51.401993Z"
    },
    "papermill": {
     "duration": 0.048836,
     "end_time": "2021-07-24T19:10:24.847199",
     "exception": false,
     "start_time": "2021-07-24T19:10:24.798363",
     "status": "completed"
    },
    "tags": []
   },
   "outputs": [
    {
     "data": {
      "text/plain": [
       "9737"
      ]
     },
     "execution_count": 4,
     "metadata": {},
     "output_type": "execute_result"
    }
   ],
   "source": [
    "# Unique films\n",
    "df[\"title\"].nunique()"
   ]
  },
  {
   "cell_type": "code",
   "execution_count": 5,
   "id": "7f1e195a",
   "metadata": {
    "execution": {
     "iopub.execute_input": "2021-07-24T19:10:24.906504Z",
     "iopub.status.busy": "2021-07-24T19:10:24.905584Z",
     "iopub.status.idle": "2021-07-24T19:10:24.914579Z",
     "shell.execute_reply": "2021-07-24T19:10:24.914050Z",
     "shell.execute_reply.started": "2021-07-24T10:24:53.333663Z"
    },
    "papermill": {
     "duration": 0.054405,
     "end_time": "2021-07-24T19:10:24.914733",
     "exception": false,
     "start_time": "2021-07-24T19:10:24.860328",
     "status": "completed"
    },
    "tags": []
   },
   "outputs": [
    {
     "data": {
      "text/plain": [
       "Forrest Gump (1994)                 329\n",
       "Shawshank Redemption, The (1994)    317\n",
       "Pulp Fiction (1994)                 307\n",
       "Silence of the Lambs, The (1991)    279\n",
       "Matrix, The (1999)                  278\n",
       "Name: title, dtype: int64"
      ]
     },
     "execution_count": 5,
     "metadata": {},
     "output_type": "execute_result"
    }
   ],
   "source": [
    "# How many comments do films have ? \n",
    "df[\"title\"].value_counts().head()"
   ]
  },
  {
   "cell_type": "code",
   "execution_count": 6,
   "id": "417b908b",
   "metadata": {
    "execution": {
     "iopub.execute_input": "2021-07-24T19:10:24.972485Z",
     "iopub.status.busy": "2021-07-24T19:10:24.971745Z",
     "iopub.status.idle": "2021-07-24T19:10:25.002580Z",
     "shell.execute_reply": "2021-07-24T19:10:25.003539Z",
     "shell.execute_reply.started": "2021-07-24T10:25:21.147844Z"
    },
    "papermill": {
     "duration": 0.075545,
     "end_time": "2021-07-24T19:10:25.003714",
     "exception": false,
     "start_time": "2021-07-24T19:10:24.928169",
     "status": "completed"
    },
    "tags": []
   },
   "outputs": [],
   "source": [
    "# The films which have over 100 comments are selected:\n",
    "\n",
    "comment_counts = pd.DataFrame(df[\"title\"].value_counts())\n",
    "\n",
    "rare_movies = comment_counts[comment_counts[\"title\"] <= 100].index\n",
    "\n",
    "# Extract from rare_movies:\n",
    "common_movies = df[~df[\"title\"].isin(rare_movies)]"
   ]
  },
  {
   "cell_type": "code",
   "execution_count": 7,
   "id": "9c02055e",
   "metadata": {
    "execution": {
     "iopub.execute_input": "2021-07-24T19:10:25.038627Z",
     "iopub.status.busy": "2021-07-24T19:10:25.037927Z",
     "iopub.status.idle": "2021-07-24T19:10:25.095262Z",
     "shell.execute_reply": "2021-07-24T19:10:25.094710Z",
     "shell.execute_reply.started": "2021-07-24T10:25:23.822249Z"
    },
    "papermill": {
     "duration": 0.078423,
     "end_time": "2021-07-24T19:10:25.095405",
     "exception": false,
     "start_time": "2021-07-24T19:10:25.016982",
     "status": "completed"
    },
    "tags": []
   },
   "outputs": [
    {
     "data": {
      "text/html": [
       "<div>\n",
       "<style scoped>\n",
       "    .dataframe tbody tr th:only-of-type {\n",
       "        vertical-align: middle;\n",
       "    }\n",
       "\n",
       "    .dataframe tbody tr th {\n",
       "        vertical-align: top;\n",
       "    }\n",
       "\n",
       "    .dataframe thead th {\n",
       "        text-align: right;\n",
       "    }\n",
       "</style>\n",
       "<table border=\"1\" class=\"dataframe\">\n",
       "  <thead>\n",
       "    <tr style=\"text-align: right;\">\n",
       "      <th>title</th>\n",
       "      <th>2001: A Space Odyssey (1968)</th>\n",
       "      <th>Ace Ventura: Pet Detective (1994)</th>\n",
       "      <th>Aladdin (1992)</th>\n",
       "      <th>Alien (1979)</th>\n",
       "      <th>Aliens (1986)</th>\n",
       "      <th>Amelie (Fabuleux destin d'Amélie Poulain, Le) (2001)</th>\n",
       "      <th>American Beauty (1999)</th>\n",
       "      <th>American History X (1998)</th>\n",
       "      <th>American Pie (1999)</th>\n",
       "      <th>Apocalypse Now (1979)</th>\n",
       "      <th>...</th>\n",
       "      <th>True Lies (1994)</th>\n",
       "      <th>Truman Show, The (1998)</th>\n",
       "      <th>Twelve Monkeys (a.k.a. 12 Monkeys) (1995)</th>\n",
       "      <th>Twister (1996)</th>\n",
       "      <th>Up (2009)</th>\n",
       "      <th>Usual Suspects, The (1995)</th>\n",
       "      <th>WALL·E (2008)</th>\n",
       "      <th>Waterworld (1995)</th>\n",
       "      <th>Willy Wonka &amp; the Chocolate Factory (1971)</th>\n",
       "      <th>X-Men (2000)</th>\n",
       "    </tr>\n",
       "    <tr>\n",
       "      <th>userId</th>\n",
       "      <th></th>\n",
       "      <th></th>\n",
       "      <th></th>\n",
       "      <th></th>\n",
       "      <th></th>\n",
       "      <th></th>\n",
       "      <th></th>\n",
       "      <th></th>\n",
       "      <th></th>\n",
       "      <th></th>\n",
       "      <th></th>\n",
       "      <th></th>\n",
       "      <th></th>\n",
       "      <th></th>\n",
       "      <th></th>\n",
       "      <th></th>\n",
       "      <th></th>\n",
       "      <th></th>\n",
       "      <th></th>\n",
       "      <th></th>\n",
       "      <th></th>\n",
       "    </tr>\n",
       "  </thead>\n",
       "  <tbody>\n",
       "    <tr>\n",
       "      <th>1.0</th>\n",
       "      <td>NaN</td>\n",
       "      <td>NaN</td>\n",
       "      <td>NaN</td>\n",
       "      <td>4.0</td>\n",
       "      <td>NaN</td>\n",
       "      <td>NaN</td>\n",
       "      <td>5.0</td>\n",
       "      <td>5.0</td>\n",
       "      <td>NaN</td>\n",
       "      <td>4.0</td>\n",
       "      <td>...</td>\n",
       "      <td>NaN</td>\n",
       "      <td>NaN</td>\n",
       "      <td>NaN</td>\n",
       "      <td>3.0</td>\n",
       "      <td>NaN</td>\n",
       "      <td>5.0</td>\n",
       "      <td>NaN</td>\n",
       "      <td>NaN</td>\n",
       "      <td>5.0</td>\n",
       "      <td>5.0</td>\n",
       "    </tr>\n",
       "    <tr>\n",
       "      <th>2.0</th>\n",
       "      <td>NaN</td>\n",
       "      <td>NaN</td>\n",
       "      <td>NaN</td>\n",
       "      <td>NaN</td>\n",
       "      <td>NaN</td>\n",
       "      <td>NaN</td>\n",
       "      <td>NaN</td>\n",
       "      <td>NaN</td>\n",
       "      <td>NaN</td>\n",
       "      <td>NaN</td>\n",
       "      <td>...</td>\n",
       "      <td>NaN</td>\n",
       "      <td>NaN</td>\n",
       "      <td>NaN</td>\n",
       "      <td>NaN</td>\n",
       "      <td>NaN</td>\n",
       "      <td>NaN</td>\n",
       "      <td>NaN</td>\n",
       "      <td>NaN</td>\n",
       "      <td>NaN</td>\n",
       "      <td>NaN</td>\n",
       "    </tr>\n",
       "  </tbody>\n",
       "</table>\n",
       "<p>2 rows × 134 columns</p>\n",
       "</div>"
      ],
      "text/plain": [
       "title   2001: A Space Odyssey (1968)  Ace Ventura: Pet Detective (1994)  \\\n",
       "userId                                                                    \n",
       "1.0                              NaN                                NaN   \n",
       "2.0                              NaN                                NaN   \n",
       "\n",
       "title   Aladdin (1992)  Alien (1979)  Aliens (1986)  \\\n",
       "userId                                                \n",
       "1.0                NaN           4.0            NaN   \n",
       "2.0                NaN           NaN            NaN   \n",
       "\n",
       "title   Amelie (Fabuleux destin d'Amélie Poulain, Le) (2001)  \\\n",
       "userId                                                         \n",
       "1.0                                                   NaN      \n",
       "2.0                                                   NaN      \n",
       "\n",
       "title   American Beauty (1999)  American History X (1998)  \\\n",
       "userId                                                      \n",
       "1.0                        5.0                        5.0   \n",
       "2.0                        NaN                        NaN   \n",
       "\n",
       "title   American Pie (1999)  Apocalypse Now (1979)  ...  True Lies (1994)  \\\n",
       "userId                                              ...                     \n",
       "1.0                     NaN                    4.0  ...               NaN   \n",
       "2.0                     NaN                    NaN  ...               NaN   \n",
       "\n",
       "title   Truman Show, The (1998)  Twelve Monkeys (a.k.a. 12 Monkeys) (1995)  \\\n",
       "userId                                                                       \n",
       "1.0                         NaN                                        NaN   \n",
       "2.0                         NaN                                        NaN   \n",
       "\n",
       "title   Twister (1996)  Up (2009)  Usual Suspects, The (1995)  WALL·E (2008)  \\\n",
       "userId                                                                         \n",
       "1.0                3.0        NaN                         5.0            NaN   \n",
       "2.0                NaN        NaN                         NaN            NaN   \n",
       "\n",
       "title   Waterworld (1995)  Willy Wonka & the Chocolate Factory (1971)  \\\n",
       "userId                                                                  \n",
       "1.0                   NaN                                         5.0   \n",
       "2.0                   NaN                                         NaN   \n",
       "\n",
       "title   X-Men (2000)  \n",
       "userId                \n",
       "1.0              5.0  \n",
       "2.0              NaN  \n",
       "\n",
       "[2 rows x 134 columns]"
      ]
     },
     "execution_count": 7,
     "metadata": {},
     "output_type": "execute_result"
    }
   ],
   "source": [
    "# user movie df'inin oluşturulması.\n",
    "user_movie_df = common_movies.pivot_table(index=[\"userId\"], columns=[\"title\"], values=\"rating\")\n",
    "\n",
    "user_movie_df.head(2)"
   ]
  },
  {
   "cell_type": "code",
   "execution_count": 8,
   "id": "b0137e74",
   "metadata": {
    "execution": {
     "iopub.execute_input": "2021-07-24T19:10:25.131272Z",
     "iopub.status.busy": "2021-07-24T19:10:25.130591Z",
     "iopub.status.idle": "2021-07-24T19:10:25.133306Z",
     "shell.execute_reply": "2021-07-24T19:10:25.133807Z",
     "shell.execute_reply.started": "2021-07-24T10:25:59.211469Z"
    },
    "papermill": {
     "duration": 0.02449,
     "end_time": "2021-07-24T19:10:25.133973",
     "exception": false,
     "start_time": "2021-07-24T19:10:25.109483",
     "status": "completed"
    },
    "tags": []
   },
   "outputs": [
    {
     "data": {
      "text/plain": [
       "userId\n",
       "1.0    5.0\n",
       "2.0    NaN\n",
       "3.0    NaN\n",
       "4.0    1.0\n",
       "5.0    NaN\n",
       "Name: Matrix, The (1999), dtype: float64"
      ]
     },
     "execution_count": 8,
     "metadata": {},
     "output_type": "execute_result"
    }
   ],
   "source": [
    "movie_name = \"Matrix, The (1999)\"\n",
    "movie_name = user_movie_df[movie_name] # Her user Matrix filmini oyları\n",
    "movie_name.head()"
   ]
  },
  {
   "cell_type": "code",
   "execution_count": 9,
   "id": "a5998515",
   "metadata": {
    "execution": {
     "iopub.execute_input": "2021-07-24T19:10:25.165309Z",
     "iopub.status.busy": "2021-07-24T19:10:25.164638Z",
     "iopub.status.idle": "2021-07-24T19:10:25.221720Z",
     "shell.execute_reply": "2021-07-24T19:10:25.220733Z",
     "shell.execute_reply.started": "2021-07-24T10:26:19.40128Z"
    },
    "papermill": {
     "duration": 0.073794,
     "end_time": "2021-07-24T19:10:25.221897",
     "exception": false,
     "start_time": "2021-07-24T19:10:25.148103",
     "status": "completed"
    },
    "tags": []
   },
   "outputs": [
    {
     "data": {
      "text/plain": [
       "title\n",
       "Matrix, The (1999)       1.000000\n",
       "Die Hard (1988)          0.544466\n",
       "Inception (2010)         0.514767\n",
       "Braveheart (1995)        0.496045\n",
       "Aliens (1986)            0.470865\n",
       "Lion King, The (1994)    0.444932\n",
       "Monsters, Inc. (2001)    0.441205\n",
       "Batman Begins (2005)     0.440338\n",
       "Jurassic Park (1993)     0.427936\n",
       "Fight Club (1999)        0.417196\n",
       "dtype: float64"
      ]
     },
     "execution_count": 9,
     "metadata": {},
     "output_type": "execute_result"
    }
   ],
   "source": [
    "# Corralations scores matrix with others:\n",
    "user_movie_df.corrwith(movie_name).sort_values(ascending=False).head(10)"
   ]
  },
  {
   "cell_type": "code",
   "execution_count": 10,
   "id": "fb1a0af6",
   "metadata": {
    "execution": {
     "iopub.execute_input": "2021-07-24T19:10:25.257622Z",
     "iopub.status.busy": "2021-07-24T19:10:25.256904Z",
     "iopub.status.idle": "2021-07-24T19:10:25.301020Z",
     "shell.execute_reply": "2021-07-24T19:10:25.300499Z",
     "shell.execute_reply.started": "2021-07-24T10:26:51.043411Z"
    },
    "papermill": {
     "duration": 0.064473,
     "end_time": "2021-07-24T19:10:25.301174",
     "exception": false,
     "start_time": "2021-07-24T19:10:25.236701",
     "status": "completed"
    },
    "tags": []
   },
   "outputs": [
    {
     "data": {
      "text/plain": [
       "title\n",
       "Inception (2010)                                             1.000000\n",
       "Interview with the Vampire: The Vampire Chronicles (1994)    0.789059\n",
       "Dances with Wolves (1990)                                    0.734847\n",
       "Firm, The (1993)                                             0.722633\n",
       "Saving Private Ryan (1998)                                   0.700970\n",
       "Full Metal Jacket (1987)                                     0.607265\n",
       "Ocean's Eleven (2001)                                        0.581871\n",
       "Heat (1995)                                                  0.565437\n",
       "Braveheart (1995)                                            0.555414\n",
       "Outbreak (1995)                                              0.549277\n",
       "dtype: float64"
      ]
     },
     "execution_count": 10,
     "metadata": {},
     "output_type": "execute_result"
    }
   ],
   "source": [
    "movie_name = \"Inception (2010)\"\n",
    "movie_name = user_movie_df[movie_name]\n",
    "user_movie_df.corrwith(movie_name).sort_values(ascending=False).head(10)"
   ]
  },
  {
   "cell_type": "code",
   "execution_count": 11,
   "id": "3c358991",
   "metadata": {
    "execution": {
     "iopub.execute_input": "2021-07-24T19:10:25.339398Z",
     "iopub.status.busy": "2021-07-24T19:10:25.338668Z",
     "iopub.status.idle": "2021-07-24T19:10:25.499684Z",
     "shell.execute_reply": "2021-07-24T19:10:25.499129Z",
     "shell.execute_reply.started": "2021-07-24T10:29:10.854958Z"
    },
    "papermill": {
     "duration": 0.183763,
     "end_time": "2021-07-24T19:10:25.499857",
     "exception": false,
     "start_time": "2021-07-24T19:10:25.316094",
     "status": "completed"
    },
    "tags": []
   },
   "outputs": [],
   "source": [
    "# Let's make a function:\n",
    "\n",
    "def create_user_movie_df():\n",
    "    import pandas as pd\n",
    "    movie = pd.read_csv('/kaggle/input/movie-lens-dataset/movies.csv')\n",
    "    rating = pd.read_csv('/kaggle/input/movie-lens-dataset/ratings.csv')\n",
    "    df = movie.merge(rating, how=\"left\", on=\"movieId\")\n",
    "    comment_counts = pd.DataFrame(df[\"title\"].value_counts())\n",
    "    rare_movies = comment_counts[comment_counts[\"title\"] <= 100].index\n",
    "    common_movies = df[~df[\"title\"].isin(rare_movies)]\n",
    "    user_movie_df = common_movies.pivot_table(index=[\"userId\"], columns=[\"title\"], values=\"rating\")\n",
    "    return user_movie_df\n",
    "\n",
    "user_movie_df = create_user_movie_df()"
   ]
  },
  {
   "cell_type": "code",
   "execution_count": 12,
   "id": "d9dc5ed9",
   "metadata": {
    "execution": {
     "iopub.execute_input": "2021-07-24T19:10:25.535171Z",
     "iopub.status.busy": "2021-07-24T19:10:25.534226Z",
     "iopub.status.idle": "2021-07-24T19:10:25.536762Z",
     "shell.execute_reply": "2021-07-24T19:10:25.536298Z",
     "shell.execute_reply.started": "2021-07-24T10:29:15.029679Z"
    },
    "papermill": {
     "duration": 0.022115,
     "end_time": "2021-07-24T19:10:25.536913",
     "exception": false,
     "start_time": "2021-07-24T19:10:25.514798",
     "status": "completed"
    },
    "tags": []
   },
   "outputs": [],
   "source": [
    "def item_based_recommender(movie_name, user_movie_df):\n",
    "    movie_name = user_movie_df[movie_name]\n",
    "    return user_movie_df.corrwith(movie_name).sort_values(ascending=False).head(10)\n"
   ]
  },
  {
   "cell_type": "code",
   "execution_count": 13,
   "id": "3f32a216",
   "metadata": {
    "execution": {
     "iopub.execute_input": "2021-07-24T19:10:25.572491Z",
     "iopub.status.busy": "2021-07-24T19:10:25.571477Z",
     "iopub.status.idle": "2021-07-24T19:10:25.616871Z",
     "shell.execute_reply": "2021-07-24T19:10:25.617318Z",
     "shell.execute_reply.started": "2021-07-24T10:29:17.860136Z"
    },
    "papermill": {
     "duration": 0.065625,
     "end_time": "2021-07-24T19:10:25.617490",
     "exception": false,
     "start_time": "2021-07-24T19:10:25.551865",
     "status": "completed"
    },
    "tags": []
   },
   "outputs": [
    {
     "data": {
      "text/plain": [
       "title\n",
       "Matrix, The (1999)       1.000000\n",
       "Die Hard (1988)          0.544466\n",
       "Inception (2010)         0.514767\n",
       "Braveheart (1995)        0.496045\n",
       "Aliens (1986)            0.470865\n",
       "Lion King, The (1994)    0.444932\n",
       "Monsters, Inc. (2001)    0.441205\n",
       "Batman Begins (2005)     0.440338\n",
       "Jurassic Park (1993)     0.427936\n",
       "Fight Club (1999)        0.417196\n",
       "dtype: float64"
      ]
     },
     "execution_count": 13,
     "metadata": {},
     "output_type": "execute_result"
    }
   ],
   "source": [
    "item_based_recommender(\"Matrix, The (1999)\", user_movie_df)"
   ]
  }
 ],
 "metadata": {
  "kernelspec": {
   "display_name": "Python 3",
   "language": "python",
   "name": "python3"
  },
  "language_info": {
   "codemirror_mode": {
    "name": "ipython",
    "version": 3
   },
   "file_extension": ".py",
   "mimetype": "text/x-python",
   "name": "python",
   "nbconvert_exporter": "python",
   "pygments_lexer": "ipython3",
   "version": "3.7.10"
  },
  "papermill": {
   "default_parameters": {},
   "duration": 10.326054,
   "end_time": "2021-07-24T19:10:26.343021",
   "environment_variables": {},
   "exception": null,
   "input_path": "__notebook__.ipynb",
   "output_path": "__notebook__.ipynb",
   "parameters": {},
   "start_time": "2021-07-24T19:10:16.016967",
   "version": "2.3.3"
  }
 },
 "nbformat": 4,
 "nbformat_minor": 5
}
